{
 "cells": [
  {
   "cell_type": "code",
   "execution_count": 4,
   "metadata": {},
   "outputs": [
    {
     "name": "stdout",
     "output_type": "stream",
     "text": [
      "Enter your nameffgyhjnjh\n",
      "Enter your age4\n",
      "Enter the phone number456\n",
      "Enter your namedfgfggh\n",
      "Enter your age45\n",
      "Enter the phone number4566\n",
      "Enter your namegfghhjjn\n",
      "Enter your age456754\n",
      "Enter the phone number56\n",
      "Enter your namegyg\n",
      "Enter your ageew4\n",
      "Enter the phone number466\n",
      "{'ffgyhjnjh': ['4', '456'], 'dfgfggh': ['45', '4566'], 'gfghhjjn': ['456754', '56'], 'gyg': ['ew4', '466']}\n"
     ]
    }
   ],
   "source": [
    "userDetail = {}\n",
    "for i in range(4):\n",
    "    name = input(\"Enter your name\")\n",
    "    age = input(\"Enter your age\")\n",
    "    phone =input(\"Enter the phone number\")\n",
    "    userDetail.update({\n",
    "        name:[age,phone]\n",
    "    })\n",
    "print(userDetail)"
   ]
  }
 ],
 "metadata": {
  "kernelspec": {
   "display_name": "Python 3",
   "language": "python",
   "name": "python3"
  },
  "language_info": {
   "codemirror_mode": {
    "name": "ipython",
    "version": 3
   },
   "file_extension": ".py",
   "mimetype": "text/x-python",
   "name": "python",
   "nbconvert_exporter": "python",
   "pygments_lexer": "ipython3",
   "version": "3.8.5"
  }
 },
 "nbformat": 4,
 "nbformat_minor": 4
}
