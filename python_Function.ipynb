{
 "cells": [
  {
   "cell_type": "code",
   "execution_count": 1,
   "metadata": {},
   "outputs": [],
   "source": [
    "def maximum(number_one, number_two, number_three):\n",
    "    max = number_one\n",
    "    if(max < number_two):\n",
    "        max = number_two\n",
    "    if(max < number_three):\n",
    "        max = number_three\n",
    "    return max"
   ]
  },
  {
   "cell_type": "code",
   "execution_count": 2,
   "metadata": {},
   "outputs": [
    {
     "data": {
      "text/plain": [
       "50"
      ]
     },
     "execution_count": 2,
     "metadata": {},
     "output_type": "execute_result"
    }
   ],
   "source": [
    "max(20,30,50)"
   ]
  },
  {
   "cell_type": "code",
   "execution_count": 3,
   "metadata": {},
   "outputs": [
    {
     "data": {
      "text/plain": [
       "6"
      ]
     },
     "execution_count": 3,
     "metadata": {},
     "output_type": "execute_result"
    }
   ],
   "source": [
    "max(6,2,4)"
   ]
  },
  {
   "cell_type": "code",
   "execution_count": 4,
   "metadata": {},
   "outputs": [
    {
     "name": "stdout",
     "output_type": "stream",
     "text": [
      "4 2 3 5 2 5 4 1 6 1 4 5 2 3 6 1 3 2 5 2 "
     ]
    }
   ],
   "source": [
    "import random\n",
    "\n",
    "def randomgenerator():\n",
    "    for i in range(20):\n",
    "        print(random.randrange(1,7), end=' ')\n",
    "        \n",
    "randomgenerator()"
   ]
  },
  {
   "cell_type": "code",
   "execution_count": 5,
   "metadata": {},
   "outputs": [
    {
     "name": "stdout",
     "output_type": "stream",
     "text": [
      "157 175 160 178 178 152\n"
     ]
    }
   ],
   "source": [
    "def die_roll():\n",
    "    freqOne = 0\n",
    "    freqTwo = 0\n",
    "    freqThree = 0\n",
    "    freqFour = 0\n",
    "    freqFive = 0\n",
    "    freqSix = 0\n",
    "    for roll in range(1000):\n",
    "        face = random.randrange(1,7)\n",
    "        if(face == 1):\n",
    "            freqOne += 1\n",
    "        if(face == 2):\n",
    "            freqTwo += 1\n",
    "        if(face == 3):\n",
    "            freqThree += 1\n",
    "        if(face == 4):\n",
    "            freqFour += 1\n",
    "        if(face == 5):\n",
    "            freqFive += 1\n",
    "        if(face == 6):\n",
    "            freqSix += 1\n",
    "    print(freqOne,freqTwo,freqThree,freqFour,freqFive,freqSix)\n",
    "        \n",
    "die_roll()"
   ]
  },
  {
   "cell_type": "code",
   "execution_count": 6,
   "metadata": {},
   "outputs": [
    {
     "name": "stdout",
     "output_type": "stream",
     "text": [
      "6 6 2 3 6 6 1 3 5 2 "
     ]
    }
   ],
   "source": [
    "    random.seed(20)\n",
    "    for i in range(10):\n",
    "        print(random.randrange(1,7), end=\" \")"
   ]
  },
  {
   "cell_type": "code",
   "execution_count": 7,
   "metadata": {},
   "outputs": [
    {
     "name": "stdout",
     "output_type": "stream",
     "text": [
      "6 6 2 3 6 6 1 3 5 2 1 4 4 1 1 2 3 4 5 4 "
     ]
    }
   ],
   "source": [
    "    random.seed(20)\n",
    "    for i in range(20):\n",
    "         print(random.randrange(1,7), end=\" \")"
   ]
  },
  {
   "cell_type": "code",
   "execution_count": 8,
   "metadata": {},
   "outputs": [
    {
     "name": "stdout",
     "output_type": "stream",
     "text": [
      "2021-05-29 19:09:07.986222\n"
     ]
    }
   ],
   "source": [
    "import datetime\n",
    "\n",
    "def date_and_time():\n",
    "    print(datetime.datetime.today())\n",
    "\n",
    "    \n",
    "date_and_time()"
   ]
  },
  {
   "cell_type": "code",
   "execution_count": 9,
   "metadata": {},
   "outputs": [
    {
     "name": "stdout",
     "output_type": "stream",
     "text": [
      "14\n",
      "13.564\n",
      "13.56\n",
      "13.6\n"
     ]
    }
   ],
   "source": [
    "def Round_Number():\n",
    "    number = 13.56449\n",
    "    print(round(number))\n",
    "    print(round(number,3))\n",
    "    print(round(number,2))\n",
    "    print(round(number,1))\n",
    "    \n",
    "Round_Number()"
   ]
  },
  {
   "cell_type": "code",
   "execution_count": 10,
   "metadata": {},
   "outputs": [
    {
     "name": "stdout",
     "output_type": "stream",
     "text": [
      "Celcius                fahrenteit\n",
      "   0                      32.0\n",
      "Celcius                fahrenteit\n",
      "   1                      33.8\n",
      "Celcius                fahrenteit\n",
      "   2                      35.6\n",
      "Celcius                fahrenteit\n",
      "   3                      37.4\n",
      "Celcius                fahrenteit\n",
      "   4                      39.2\n",
      "Celcius                fahrenteit\n",
      "   5                      41.0\n",
      "Celcius                fahrenteit\n",
      "   6                      42.8\n",
      "Celcius                fahrenteit\n",
      "   7                      44.6\n",
      "Celcius                fahrenteit\n",
      "   8                      46.4\n",
      "Celcius                fahrenteit\n",
      "   9                      48.2\n",
      "Celcius                fahrenteit\n",
      "  10                      50.0\n",
      "Celcius                fahrenteit\n",
      "  11                      51.8\n",
      "Celcius                fahrenteit\n",
      "  12                      53.6\n",
      "Celcius                fahrenteit\n",
      "  13        55.400000000000006\n",
      "Celcius                fahrenteit\n",
      "  14                      57.2\n",
      "Celcius                fahrenteit\n",
      "  15                      59.0\n",
      "Celcius                fahrenteit\n",
      "  16                      60.8\n",
      "Celcius                fahrenteit\n",
      "  17                      62.6\n",
      "Celcius                fahrenteit\n",
      "  18                      64.4\n",
      "Celcius                fahrenteit\n",
      "  19                      66.2\n",
      "Celcius                fahrenteit\n",
      "  20                      68.0\n",
      "Celcius                fahrenteit\n",
      "  21         69.80000000000001\n",
      "Celcius                fahrenteit\n",
      "  22                      71.6\n",
      "Celcius                fahrenteit\n",
      "  23                      73.4\n",
      "Celcius                fahrenteit\n",
      "  24                      75.2\n",
      "Celcius                fahrenteit\n",
      "  25                      77.0\n",
      "Celcius                fahrenteit\n",
      "  26         78.80000000000001\n",
      "Celcius                fahrenteit\n",
      "  27                      80.6\n",
      "Celcius                fahrenteit\n",
      "  28                      82.4\n",
      "Celcius                fahrenteit\n",
      "  29                      84.2\n",
      "Celcius                fahrenteit\n",
      "  30                      86.0\n",
      "Celcius                fahrenteit\n",
      "  31         87.80000000000001\n",
      "Celcius                fahrenteit\n",
      "  32                      89.6\n",
      "Celcius                fahrenteit\n",
      "  33                      91.4\n",
      "Celcius                fahrenteit\n",
      "  34                      93.2\n",
      "Celcius                fahrenteit\n",
      "  35                      95.0\n",
      "Celcius                fahrenteit\n",
      "  36                      96.8\n",
      "Celcius                fahrenteit\n",
      "  37         98.60000000000001\n",
      "Celcius                fahrenteit\n",
      "  38                     100.4\n",
      "Celcius                fahrenteit\n",
      "  39                     102.2\n",
      "Celcius                fahrenteit\n",
      "  40                     104.0\n",
      "Celcius                fahrenteit\n",
      "  41                     105.8\n",
      "Celcius                fahrenteit\n",
      "  42        107.60000000000001\n",
      "Celcius                fahrenteit\n",
      "  43                     109.4\n",
      "Celcius                fahrenteit\n",
      "  44                     111.2\n",
      "Celcius                fahrenteit\n",
      "  45                     113.0\n",
      "Celcius                fahrenteit\n",
      "  46                     114.8\n",
      "Celcius                fahrenteit\n",
      "  47        116.60000000000001\n",
      "Celcius                fahrenteit\n",
      "  48                     118.4\n",
      "Celcius                fahrenteit\n",
      "  49                     120.2\n",
      "Celcius                fahrenteit\n",
      "  50                     122.0\n",
      "Celcius                fahrenteit\n",
      "  51                     123.8\n",
      "Celcius                fahrenteit\n",
      "  52        125.60000000000001\n",
      "Celcius                fahrenteit\n",
      "  53                     127.4\n",
      "Celcius                fahrenteit\n",
      "  54                     129.2\n",
      "Celcius                fahrenteit\n",
      "  55                     131.0\n",
      "Celcius                fahrenteit\n",
      "  56                     132.8\n",
      "Celcius                fahrenteit\n",
      "  57        134.60000000000002\n",
      "Celcius                fahrenteit\n",
      "  58                     136.4\n",
      "Celcius                fahrenteit\n",
      "  59                     138.2\n",
      "Celcius                fahrenteit\n",
      "  60                     140.0\n",
      "Celcius                fahrenteit\n",
      "  61                     141.8\n",
      "Celcius                fahrenteit\n",
      "  62        143.60000000000002\n",
      "Celcius                fahrenteit\n",
      "  63                     145.4\n",
      "Celcius                fahrenteit\n",
      "  64                     147.2\n",
      "Celcius                fahrenteit\n",
      "  65                     149.0\n",
      "Celcius                fahrenteit\n",
      "  66                     150.8\n",
      "Celcius                fahrenteit\n",
      "  67        152.60000000000002\n",
      "Celcius                fahrenteit\n",
      "  68                     154.4\n",
      "Celcius                fahrenteit\n",
      "  69                     156.2\n",
      "Celcius                fahrenteit\n",
      "  70                     158.0\n",
      "Celcius                fahrenteit\n",
      "  71                     159.8\n",
      "Celcius                fahrenteit\n",
      "  72                     161.6\n",
      "Celcius                fahrenteit\n",
      "  73                     163.4\n",
      "Celcius                fahrenteit\n",
      "  74        165.20000000000002\n",
      "Celcius                fahrenteit\n",
      "  75                     167.0\n",
      "Celcius                fahrenteit\n",
      "  76                     168.8\n",
      "Celcius                fahrenteit\n",
      "  77                     170.6\n",
      "Celcius                fahrenteit\n",
      "  78                     172.4\n",
      "Celcius                fahrenteit\n",
      "  79        174.20000000000002\n",
      "Celcius                fahrenteit\n",
      "  80                     176.0\n",
      "Celcius                fahrenteit\n",
      "  81                     177.8\n",
      "Celcius                fahrenteit\n",
      "  82                     179.6\n",
      "Celcius                fahrenteit\n",
      "  83                     181.4\n",
      "Celcius                fahrenteit\n",
      "  84        183.20000000000002\n",
      "Celcius                fahrenteit\n",
      "  85                     185.0\n",
      "Celcius                fahrenteit\n",
      "  86                     186.8\n",
      "Celcius                fahrenteit\n",
      "  87                     188.6\n",
      "Celcius                fahrenteit\n",
      "  88                     190.4\n",
      "Celcius                fahrenteit\n",
      "  89        192.20000000000002\n",
      "Celcius                fahrenteit\n",
      "  90                     194.0\n",
      "Celcius                fahrenteit\n",
      "  91                     195.8\n",
      "Celcius                fahrenteit\n",
      "  92                     197.6\n",
      "Celcius                fahrenteit\n",
      "  93                     199.4\n",
      "Celcius                fahrenteit\n",
      "  94        201.20000000000002\n",
      "Celcius                fahrenteit\n",
      "  95                     203.0\n",
      "Celcius                fahrenteit\n",
      "  96                     204.8\n",
      "Celcius                fahrenteit\n",
      "  97                     206.6\n",
      "Celcius                fahrenteit\n",
      "  98                     208.4\n",
      "Celcius                fahrenteit\n",
      "  99        210.20000000000002\n"
     ]
    }
   ],
   "source": [
    "def temperature_Conversion():\n",
    "    fahrenteit =0\n",
    "#     i = 0\n",
    "#     C = i\n",
    "    for i in range(100):\n",
    "        C = i\n",
    "        fahrenteit = (9/5)* C + 32\n",
    "        \n",
    "        print(f'Celcius{\"fahrenteit\":>26}')\n",
    "        print(f'{C:>4}{fahrenteit:>26}')\n",
    "        \n",
    "        \n",
    "\n",
    "        \n",
    "        \n",
    "temperature_Conversion()"
   ]
  },
  {
   "cell_type": "code",
   "execution_count": 14,
   "metadata": {},
   "outputs": [
    {
     "name": "stdout",
     "output_type": "stream",
     "text": [
      "Too low. Try again\n",
      "422\n",
      "Too high. Try again\n",
      "214\n",
      "Too high. Try again\n",
      "205\n"
     ]
    }
   ],
   "source": [
    "import random\n",
    "\n",
    "def guessingGame(user_guess):\n",
    "    guess_number = random.randrange(1,1000)\n",
    "    if user_guess == guess_number:\n",
    "        print(\"Congratulation\")\n",
    "    elif user_guess > guess_number:\n",
    "        print(\"Too high. Try again\")\n",
    "    else: print(\"Too low. Try again\")\n",
    "    print(guess_number)\n",
    "        \n",
    "guessingGame(23)\n",
    "guessingGame(500)\n",
    "guessingGame(450)"
   ]
  },
  {
   "cell_type": "code",
   "execution_count": 11,
   "metadata": {},
   "outputs": [
    {
     "data": {
      "text/plain": [
       "120"
      ]
     },
     "execution_count": 11,
     "metadata": {},
     "output_type": "execute_result"
    }
   ],
   "source": [
    "def product(*numbers):\n",
    "    multiply = 1\n",
    "    for number in numbers:\n",
    "        multiply = multiply * number\n",
    "    return multiply\n",
    "    \n",
    "product(2,4,5,3)\n",
    "        "
   ]
  },
  {
   "cell_type": "code",
   "execution_count": null,
   "metadata": {},
   "outputs": [],
   "source": []
  }
 ],
 "metadata": {
  "kernelspec": {
   "display_name": "Python 3",
   "language": "python",
   "name": "python3"
  },
  "language_info": {
   "codemirror_mode": {
    "name": "ipython",
    "version": 3
   },
   "file_extension": ".py",
   "mimetype": "text/x-python",
   "name": "python",
   "nbconvert_exporter": "python",
   "pygments_lexer": "ipython3",
   "version": "3.8.5"
  }
 },
 "nbformat": 4,
 "nbformat_minor": 4
}
