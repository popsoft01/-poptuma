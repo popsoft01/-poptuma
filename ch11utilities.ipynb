{
 "cells": [
  {
   "cell_type": "code",
   "execution_count": 4,
   "metadata": {},
   "outputs": [],
   "source": [
    "def print_pass(data,pass_number, index):\n",
    "    label = f'after pass {pass_number}:'\n",
    "    print(label,end='')\n",
    "    \n",
    "    print(' '.join(str(d) for d in data[:index]),end=' 'if index != 0 else '')\n",
    "    \n",
    "    print(f'{data[index]}* ', end='')\n",
    "    \n",
    "    print(' '.join(str(d) for d in data[index +1:len(data)]))\n",
    "    \n",
    "    print(f'{\" \" * len(label)}{\"--  \" * pass_number}')"
   ]
  },
  {
   "cell_type": "code",
   "execution_count": 8,
   "metadata": {},
   "outputs": [
    {
     "name": "stdout",
     "output_type": "stream",
     "text": [
      "Unsorted array: [35 73 90 65 23 86 43 81 34 58]\n",
      "\n",
      "after pass 1:35 73* 90 65 23 86 43 81 34 58\n",
      "             --  \n",
      "after pass 2:35 73 90* 65 23 86 43 81 34 58\n",
      "             --  --  \n",
      "after pass 3:35 65* 73 90 23 86 43 81 34 58\n",
      "             --  --  --  \n",
      "after pass 4:23* 35 65 73 90 86 43 81 34 58\n",
      "             --  --  --  --  \n",
      "after pass 5:23 35 65 73 86* 90 43 81 34 58\n",
      "             --  --  --  --  --  \n",
      "after pass 6:23 35 43* 65 73 86 90 81 34 58\n",
      "             --  --  --  --  --  --  \n",
      "after pass 7:23 35 43 65 73 81* 86 90 34 58\n",
      "             --  --  --  --  --  --  --  \n",
      "after pass 8:23 34* 35 43 65 73 81 86 90 58\n",
      "             --  --  --  --  --  --  --  --  \n",
      "after pass 9:23 34 35 43 58* 65 73 81 86 90\n",
      "             --  --  --  --  --  --  --  --  --  \n",
      "\n",
      "Sorted array: [23 34 35 43 58 65 73 81 86 90]\n",
      "\n"
     ]
    }
   ],
   "source": [
    "import numpy as np\n",
    "# from ch11utilities import print_pass\n",
    "\n",
    "def insertion_sort(data):\n",
    "    for next in range(1, len(data)):\n",
    "        insert = data[next]\n",
    "        move_item = next\n",
    "        \n",
    "        while move_item > 0 and data[move_item - 1]> insert:\n",
    "            data[move_item] = data[move_item -1]\n",
    "            move_item -=1\n",
    "            \n",
    "        data[move_item] = insert\n",
    "        print_pass(data, next, move_item)\n",
    "        \n",
    "def main():\n",
    "    data = np.array([35,73,90,65,23,86,43,81,34,58])\n",
    "    print(f'Unsorted array: {data}\\n')\n",
    "    insertion_sort(data)\n",
    "    print(f'\\nSorted array: {data}\\n')\n",
    "    \n",
    "    \n",
    "if __name__ =='__main__':\n",
    "    main()"
   ]
  },
  {
   "cell_type": "code",
   "execution_count": null,
   "metadata": {},
   "outputs": [],
   "source": []
  }
 ],
 "metadata": {
  "kernelspec": {
   "display_name": "Python 3",
   "language": "python",
   "name": "python3"
  },
  "language_info": {
   "codemirror_mode": {
    "name": "ipython",
    "version": 3
   },
   "file_extension": ".py",
   "mimetype": "text/x-python",
   "name": "python",
   "nbconvert_exporter": "python",
   "pygments_lexer": "ipython3",
   "version": "3.8.5"
  }
 },
 "nbformat": 4,
 "nbformat_minor": 4
}
