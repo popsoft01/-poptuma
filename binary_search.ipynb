{
 "cells": [
  {
   "cell_type": "code",
   "execution_count": 2,
   "metadata": {},
   "outputs": [],
   "source": [
    "import numpy as np\n",
    "\n",
    "\n",
    "def binary_search(data, key):\n",
    "    low = 0\n",
    "    high = len(data) - 1\n",
    "    middle = (low + high + 1) // 2\n",
    "    location = -1\n",
    "\n",
    "    while low <= high and location == -1:\n",
    "        print(remaining_elements(data, low, high))\n",
    "\n",
    "        print(' ' * middle, end='')\n",
    "        print(' * ')\n",
    "\n",
    "        if key == data[middle]:\n",
    "            location = middle\n",
    "\n",
    "        elif key < data[middle]:\n",
    "            high = middle - 1\n",
    "\n",
    "        else:\n",
    "            low = middle + 1\n",
    "\n",
    "        middle = (low + high + 1) // 2\n",
    "\n",
    "    return location\n",
    "\n",
    "\n",
    "def remaining_elements(data, low, high):\n",
    "    return ' '* low + ' '.join(str(s) for s in data[low:high+1])\n",
    "\n",
    "def main():\n",
    "    data = np.random.randint(10,91,15)\n",
    "    data.sort()\n",
    "    print(data, '\\n')\n",
    "    search_key = int(input(\"Enter an interger value (-1 to quit):\"))\n",
    "    location = binary_search(data, search_key)\n",
    "    if location ==-1:\n",
    "        print(f'{search_key} was not found\\n')\n",
    "    else:\n",
    "        print(f'{search_key} found in position {location} \\n')\n",
    "    search_key = int(input('Enter an interger value (-1 to quit): '))\n",
    "\n",
    "    if __name__ =='__main__':\n",
    "        main()\n"
   ]
  }
 ],
 "metadata": {
  "kernelspec": {
   "display_name": "Python 3",
   "language": "python",
   "name": "python3"
  },
  "language_info": {
   "codemirror_mode": {
    "name": "ipython",
    "version": 3
   },
   "file_extension": ".py",
   "mimetype": "text/x-python",
   "name": "python",
   "nbconvert_exporter": "python",
   "pygments_lexer": "ipython3",
   "version": "3.8.5"
  }
 },
 "nbformat": 4,
 "nbformat_minor": 4
}
